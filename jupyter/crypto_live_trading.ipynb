{
 "cells": [
  {
   "cell_type": "code",
   "execution_count": 79,
   "metadata": {},
   "outputs": [],
   "source": [
    "import os\n",
    "from dotenv import load_dotenv\n",
    "import pandas as pd\n",
    "import sqlalchemy\n",
    "from binance.client import Client"
   ]
  },
  {
   "cell_type": "code",
   "execution_count": 80,
   "metadata": {},
   "outputs": [],
   "source": [
    "load_dotenv()\n",
    "BINANCE_API_KEY = os.environ['BINANCE_API_KEY_DEV']\n",
    "BINANCE_SECRET_KEY = os.environ['BINANCE_SECRET_KEY_DEV']"
   ]
  },
  {
   "cell_type": "code",
   "execution_count": 81,
   "metadata": {},
   "outputs": [],
   "source": [
    "client = Client(BINANCE_API_KEY,BINANCE_SECRET_KEY,tld='us', testnet=True)"
   ]
  },
  {
   "cell_type": "code",
   "execution_count": 82,
   "metadata": {},
   "outputs": [],
   "source": [
    "engine = sqlalchemy.create_engine('sqlite:///BTCUSDTstream.db', echo=False)"
   ]
  },
  {
   "cell_type": "code",
   "execution_count": 83,
   "metadata": {},
   "outputs": [],
   "source": [
    "df = pd.read_sql('BTCUSDT', engine)"
   ]
  },
  {
   "cell_type": "code",
   "execution_count": 88,
   "metadata": {},
   "outputs": [
    {
     "data": {
      "text/plain": [
       "<matplotlib.axes._subplots.AxesSubplot at 0x7fc76891ceb0>"
      ]
     },
     "execution_count": 88,
     "metadata": {},
     "output_type": "execute_result"
    },
    {
     "data": {
      "image/png": "[encoded data removed]",
      "text/plain": [
       "<Figure size 432x288 with 1 Axes>"
      ]
     },
     "metadata": {
      "needs_background": "light"
     },
     "output_type": "display_data"
    }
   ],
   "source": [
    "df.Price.plot()"
   ]
  },
  {
   "cell_type": "code",
   "execution_count": 96,
   "metadata": {},
   "outputs": [
    {
     "name": "stdout",
     "output_type": "stream",
     "text": [
      "      symbol                    Time     Price\n",
      "0    BTCUSDT 2022-09-08 01:54:02.530  19202.12\n",
      "1    BTCUSDT 2022-09-08 01:54:03.533  19202.13\n",
      "2    BTCUSDT 2022-09-08 01:54:05.530  19201.65\n",
      "3    BTCUSDT 2022-09-08 01:54:05.530  19201.65\n",
      "4    BTCUSDT 2022-09-08 01:54:05.543  19201.65\n",
      "..       ...                     ...       ...\n",
      "177  BTCUSDT 2022-09-08 01:55:25.640  19192.28\n",
      "178  BTCUSDT 2022-09-08 01:55:25.640  19192.28\n",
      "179  BTCUSDT 2022-09-08 01:55:25.640  19192.16\n",
      "180  BTCUSDT 2022-09-08 01:55:26.027  19193.24\n",
      "181  BTCUSDT 2022-09-08 01:55:26.027  19193.24\n",
      "\n",
      "[182 rows x 3 columns]\n"
     ]
    }
   ],
   "source": [
    "# TrendFollowing\n",
    "# if the crypto was rising by x % -> buy\n",
    "# exit when profit is above 0.15% or loss is crossing -0.1%\n",
    "print(pd.read_sql('BTCUSDT', engine))"
   ]
  },
  {
   "cell_type": "code",
   "execution_count": 94,
   "metadata": {},
   "outputs": [],
   "source": [
    "def strategy(entry, lookback, qty, open_position=False):\n",
    "    while True:\n",
    "        # Full dataframe\n",
    "        df = pd.read_sql('BTCUSDT', engine)\n",
    "        # Look back a the last x number of data entries\n",
    "        lookbackperiod = df.iloc[-lookback:]\n",
    "        # Get the percentage change (from each prev entry) of all lookback entries\n",
    "        # Multiply them all cumulativley from start to end\n",
    "        # Total percentage change from the given lookback period (not in units of time)\n",
    "        cumret = (lookbackperiod.Price.pct_change() +1).cumprod() - 1\n",
    "        if not open_position:\n",
    "            # Go in if value starts to move up\n",
    "            if cumret[cumret.last_valid_index()] > entry:\n",
    "                # Buy some with USDT\n",
    "                order = client.create_order(symbol='BTCUSDT', side='BUY', type='MARKET', quantity=qty)\n",
    "                print(order)\n",
    "                open_position = True\n",
    "                break\n",
    "    if open_position:\n",
    "        while True:\n",
    "            df = pd.read_sql('BTCUSDT', engine)\n",
    "            # Only look at data in db where entries are after the purchase we made\n",
    "            sincebuy = df.loc[df.Time > pd.to_datetime(order['transactTime'], unit='ms')]\n",
    "\n",
    "            # Wait till we have entries\n",
    "            if len(sincebuy) > 1:\n",
    "                # Get latest percent change since the last purchase\n",
    "                sincebuyret = (sincebuy.Price.pct_change() + 1).cumprod() - 1\n",
    "                last_entry = sincebuyret[sincebuyret.last_valid_index()]\n",
    "\n",
    "                # If latest entry is greater than x percent or negative sell\n",
    "                if last_entry > 0.0015 or last_entry < -0.0015:\n",
    "                    order = client.create_order(symbol='BTCUSDT', side='SELL', type='MARKET', quantity=qty)\n",
    "                    print(order)\n",
    "                    break\n",
    "\n",
    "# strategy()"
   ]
  },
  {
   "cell_type": "code",
   "execution_count": 78,
   "metadata": {},
   "outputs": [
    {
     "name": "stdout",
     "output_type": "stream",
     "text": [
      "      symbol                    Time     Price\n",
      "0    BTCUSDT 2022-09-08 01:04:31.534  19309.99\n",
      "1    BTCUSDT 2022-09-08 01:04:31.534  19309.61\n",
      "2    BTCUSDT 2022-09-08 01:04:31.534  19309.51\n",
      "3    BTCUSDT 2022-09-08 01:04:31.550  19309.51\n",
      "4    BTCUSDT 2022-09-08 01:04:31.550  19309.25\n",
      "..       ...                     ...       ...\n",
      "181  BTCUSDT 2022-09-08 01:05:54.169  19311.21\n",
      "182  BTCUSDT 2022-09-08 01:05:54.169  19311.21\n",
      "183  BTCUSDT 2022-09-08 01:05:54.387  19311.21\n",
      "184  BTCUSDT 2022-09-08 01:05:54.387  19311.34\n",
      "185  BTCUSDT 2022-09-08 01:05:54.400  19311.34\n",
      "\n",
      "[186 rows x 3 columns]\n"
     ]
    }
   ],
   "source": []
  },
  {
   "cell_type": "code",
   "execution_count": null,
   "metadata": {},
   "outputs": [],
   "source": [
    "strategy(0.001, 60, 0.001)"
   ]
  },
  {
   "cell_type": "code",
   "execution_count": 67,
   "metadata": {},
   "outputs": [
    {
     "name": "stdout",
     "output_type": "stream",
     "text": [
      "{'symbol': 'BTCUSDT', 'orderId': 290246, 'orderListId': -1, 'clientOrderId': 'QDJgqGkR7hWpo1pm4bmWhl', 'transactTime': 1662600880993, 'price': '0.00000000', 'origQty': '0.00100000', 'executedQty': '0.00100000', 'cummulativeQuoteQty': '19.27288000', 'status': 'FILLED', 'timeInForce': 'GTC', 'type': 'MARKET', 'side': 'BUY', 'fills': [{'price': '19272.88000000', 'qty': '0.00100000', 'commission': '0.00000000', 'commissionAsset': 'BTC', 'tradeId': 110083}]}\n"
     ]
    }
   ],
   "source": [
    "# Buy\n",
    "order = client.create_order(symbol='BTCUSDT', side='BUY', type='MARKET', quantity=0.001)\n",
    "print(order)"
   ]
  }
 ],
 "metadata": {
  "kernelspec": {
   "display_name": "Python 3.8.3 ('base')",
   "language": "python",
   "name": "python3"
  },
  "language_info": {
   "codemirror_mode": {
    "name": "ipython",
    "version": 3
   },
   "file_extension": ".py",
   "mimetype": "text/x-python",
   "name": "python",
   "nbconvert_exporter": "python",
   "pygments_lexer": "ipython3",
   "version": "3.8.3"
  },
  "vscode": {
   "interpreter": {
    "hash": "4f6e90f530da08a2be98e6d8b7f6cc8b5ed908d3d2af3b3fcd99336c43cfb0ac"
   }
  }
 },
 "nbformat": 4,
 "nbformat_minor": 4
}
